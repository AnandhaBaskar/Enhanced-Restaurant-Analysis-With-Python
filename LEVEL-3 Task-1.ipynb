{
 "cells": [
  {
   "cell_type": "markdown",
   "id": "772f83db",
   "metadata": {},
   "source": [
    "# Import the necessary libraries for Data Analysis"
   ]
  },
  {
   "cell_type": "code",
   "execution_count": 23,
   "id": "5626d8b8",
   "metadata": {},
   "outputs": [],
   "source": [
    "import pandas as pd\n",
    "from sklearn.model_selection import train_test_split\n",
    "from sklearn.linear_model import LinearRegression\n",
    "from sklearn.metrics import mean_squared_error,r2_score\n",
    "import warnings\n",
    "warnings.filterwarnings(\"ignore\", category=FutureWarning)\n",
    "from sklearn.tree import DecisionTreeRegressor\n",
    "from sklearn.ensemble import RandomForestRegressor"
   ]
  },
  {
   "cell_type": "markdown",
   "id": "98a2d6de",
   "metadata": {},
   "source": [
    "# Loading the Restaurant dataset into a DataFrame"
   ]
  },
  {
   "cell_type": "code",
   "execution_count": null,
   "id": "b7a0eb26",
   "metadata": {},
   "outputs": [],
   "source": [
    "df=pd.read_csv('dataset.csv',encoding='ISO-8859-1')\n",
    "df.head()"
   ]
  },
  {
   "cell_type": "markdown",
   "id": "32a1e404",
   "metadata": {},
   "source": [
    "# LEVEL 3-Task 1:Predictive Modeling"
   ]
  },
  {
   "cell_type": "markdown",
   "id": "677eab86",
   "metadata": {},
   "source": [
    "# LEVEL 3-Task 1(i):Build a regression model to predict the aggregate rating of a restaurant based on available features."
   ]
  },
  {
   "cell_type": "code",
   "execution_count": 29,
   "id": "75354392",
   "metadata": {},
   "outputs": [
    {
     "name": "stdout",
     "output_type": "stream",
     "text": [
      "      Average Cost for two  Has Table booking  Has Online delivery  \\\n",
      "0                     1100                  1                    0   \n",
      "1                     1200                  1                    0   \n",
      "2                     4000                  1                    0   \n",
      "3                     1500                  0                    0   \n",
      "4                     1500                  1                    0   \n",
      "...                    ...                ...                  ...   \n",
      "9546                    80                  0                    0   \n",
      "9547                   105                  0                    0   \n",
      "9548                   170                  0                    0   \n",
      "9549                   120                  0                    0   \n",
      "9550                    55                  0                    0   \n",
      "\n",
      "      Is delivering now  Price range  Votes  \n",
      "0                     0            3    314  \n",
      "1                     0            3    591  \n",
      "2                     0            4    270  \n",
      "3                     0            4    365  \n",
      "4                     0            4    229  \n",
      "...                 ...          ...    ...  \n",
      "9546                  0            3    788  \n",
      "9547                  0            3   1034  \n",
      "9548                  0            4    661  \n",
      "9549                  0            4    901  \n",
      "9550                  0            2    591  \n",
      "\n",
      "[9551 rows x 6 columns]\n"
     ]
    }
   ],
   "source": [
    "# Selecting relevant features and the target variable\n",
    "features=[\n",
    "    'Average Cost for two',\n",
    "    'Has Table booking',\n",
    "    'Has Online delivery',\n",
    "    'Is delivering now',\n",
    "    'Price range',\n",
    "    'Votes'\n",
    "]\n",
    "# Ensure binary categorical features are encoded as integers (0 or 1)\n",
    "def convert_to_binary(value):\n",
    "    if isinstance(value, str):\n",
    "        return 1 if value.lower() == 'yes' else 0\n",
    "    return value\n",
    "\n",
    "df['Has Table booking']=df['Has Table booking'].apply(convert_to_binary)\n",
    "df['Has Online delivery']=df['Has Online delivery'].apply(convert_to_binary)\n",
    "df['Is delivering now']=df['Is delivering now'].apply(convert_to_binary)\n",
    "\n",
    "X=df[features]\n",
    "y=df['Aggregate rating']\n"
   ]
  },
  {
   "cell_type": "markdown",
   "id": "f1313d79",
   "metadata": {},
   "source": [
    "# LEVEL 3-Task 1(ii):Split the dataset into training and testing sets and evaluate the model's performance using appropriate metrics."
   ]
  },
  {
   "cell_type": "code",
   "execution_count": 25,
   "id": "70cdb814",
   "metadata": {},
   "outputs": [
    {
     "name": "stdout",
     "output_type": "stream",
     "text": [
      "Linear Regression - Mean Squared Error: 1.68, R^2 Score: 0.26\n"
     ]
    }
   ],
   "source": [
    "# Splitting the dataset into training and testing sets\n",
    "X_train,X_test,y_train,y_test=train_test_split(X,y,test_size=0.2,random_state=42)\n",
    "\n",
    "# Model Building\n",
    "lr_model=LinearRegression()\n",
    "lr_model.fit(X_train,y_train)\n",
    "y_pred_lr=lr_model.predict(X_test)\n",
    "\n",
    "# Model Evaluation\n",
    "mse=mean_squared_error(y_test,y_pred_lr)\n",
    "r2=r2_score(y_test,y_pred_lr)\n",
    "print(f\"Linear Regression - Mean Squared Error:{mse:.2f},R^2 Score:{r2:.2f}\")\n"
   ]
  },
  {
   "cell_type": "markdown",
   "id": "be71aefe",
   "metadata": {},
   "source": [
    "# LEVEL 3-Task 1(iii):Experiment with different algorithms (e.g., linear regression, decision trees, random forest) and compare their performance.\n"
   ]
  },
  {
   "cell_type": "code",
   "execution_count": 30,
   "id": "c0a39127",
   "metadata": {},
   "outputs": [
    {
     "name": "stdout",
     "output_type": "stream",
     "text": [
      "Linear Regression-Mean Squared Error:1.68,R^2 Score:0.26\n",
      "Decision Tree-Mean Squared Error:0.20,R^2 Score:0.91\n",
      "Random Forest-Mean Squared Error:0.13,R^2 Score:0.94\n",
      "               Model  Mean Squared Error  R^2 Score\n",
      "0  Linear Regression            1.676361   0.263497\n",
      "1      Decision Tree            0.200943   0.911717\n",
      "2      Random Forest            0.132962   0.941584\n"
     ]
    }
   ],
   "source": [
    "# Decision Tree Regressor\n",
    "dt_model=DecisionTreeRegressor(random_state=42)\n",
    "dt_model.fit(X_train,y_train)\n",
    "y_pred_dt=dt_model.predict(X_test)\n",
    "\n",
    "# Random Forest Regressor\n",
    "rf_model=RandomForestRegressor(random_state=42)\n",
    "rf_model.fit(X_train,y_train)\n",
    "y_pred_rf=rf_model.predict(X_test)\n",
    "\n",
    "# Model Evaluation\n",
    "def evaluate_model(y_test,y_pred,model_name):\n",
    "    mse=mean_squared_error(y_test,y_pred)\n",
    "    r2=r2_score(y_test,y_pred)\n",
    "    print(f\"{model_name}-Mean Squared Error:{mse:.2f},R^2 Score:{r2:.2f}\")\n",
    "\n",
    "# Evaluating Linear Regression Model\n",
    "evaluate_model(y_test,y_pred_lr,\"Linear Regression\")\n",
    "\n",
    "# Evaluating Decision Tree Model\n",
    "evaluate_model(y_test,y_pred_dt, \"Decision Tree\")\n",
    "\n",
    "# Evaluating Random Forest Model\n",
    "evaluate_model(y_test,y_pred_rf, \"Random Forest\")\n",
    "\n",
    "# Comparing Model Performance\n",
    "models=['Linear Regression', 'Decision Tree', 'Random Forest']\n",
    "mse_scores=[mean_squared_error(y_test,y_pred_lr), mean_squared_error(y_test,y_pred_dt),mean_squared_error(y_test,y_pred_rf)]\n",
    "r2_scores=[r2_score(y_test,y_pred_lr),r2_score(y_test,y_pred_dt),r2_score(y_test,y_pred_rf)]\n",
    "\n",
    "comparison_df=pd.DataFrame({\n",
    "    'Model':models,\n",
    "    'Mean Squared Error':mse_scores,\n",
    "    'R^2 Score':r2_scores\n",
    "})\n",
    "\n",
    "print(comparison_df)\n"
   ]
  }
 ],
 "metadata": {
  "kernelspec": {
   "display_name": "Python 3 (ipykernel)",
   "language": "python",
   "name": "python3"
  },
  "language_info": {
   "codemirror_mode": {
    "name": "ipython",
    "version": 3
   },
   "file_extension": ".py",
   "mimetype": "text/x-python",
   "name": "python",
   "nbconvert_exporter": "python",
   "pygments_lexer": "ipython3",
   "version": "3.11.4"
  }
 },
 "nbformat": 4,
 "nbformat_minor": 5
}
